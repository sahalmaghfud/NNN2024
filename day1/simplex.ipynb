{
    "cells": [
        {
            "cell_type": "markdown",
            "metadata": {},
            "source": [
                "Program ini terdiri dari beberapa bagian:\n",
                "1. **Inisialisasi**: Menambahkan variabel slack untuk mengubah masalah ketidaksamaan menjadi persamaan.\n",
                "2. **Membentuk Tableau**: Membuat tableau Simplex, yang merupakan representasi dari fungsi objektif dan batasan dalam bentuk matriks.\n",
                "3. **Iterasi Simplex**: Mengulangi proses mencari variabel masuk dan variabel keluar, kemudian melakukan pivoting hingga mencapai solusi optimal.\n",
                "4. **Menentukan Solusi**: Mengambil solusi akhir setelah iterasi selesai."
            ]
        },
        {
            "cell_type": "markdown",
            "metadata": {},
            "source": [
                "### Kode Python"
            ]
        },
        {
            "cell_type": "code",
            "execution_count": null,
            "metadata": {},
            "outputs": [],
            "source": [
                "import numpy as np\n",
                "\n",
                "def simplex_method(c, A, b):\n",
                "    # Add slack variables\n",
                "    m, n = A.shape\n",
                "    A_slack = np.hstack((A, np.eye(m)))\n",
                "    c_slack = np.hstack((c, np.zeros(m)))\n",
                "    \n",
                "    # Initialize tableau\n",
                "    tableau = np.vstack((\n",
                "        np.hstack((A_slack, b.reshape(-1, 1))),\n",
                "        np.hstack((c_slack, [0]))\n",
                "    ))\n",
                "    \n",
                "    basic_vars = list(range(n, n + m))\n",
                "    iterations = 0\n",
                "    \n",
                "    while True:\n",
                "        print(f\"\\nIteration {iterations}:\")\n",
                "        print(\"Tableau:\")\n",
                "        print(tableau)\n",
                "        print(\"Basic variables:\", basic_vars)\n",
                "        \n",
                "        if all(tableau[-1, :-1] >= 0):\n",
                "            print(\"\\nOptimal solution found!\")\n",
                "            break\n",
                "        \n",
                "        entering = np.argmin(tableau[-1, :-1])\n",
                "        print(f\"Entering variable: x{entering + 1}\")\n",
                "        \n",
                "        ratios = tableau[:-1, -1] / tableau[:-1, entering]\n",
                "        ratios[tableau[:-1, entering] <= 0] = np.inf\n",
                "        leaving = np.argmin(ratios)\n",
                "        print(f\"Leaving variable: x{basic_vars[leaving] + 1}\")\n",
                "        \n",
                "        pivot = tableau[leaving, entering]\n",
                "        tableau[leaving] /= pivot\n",
                "        for i in range(tableau.shape[0]):\n",
                "            if i != leaving:\n",
                "                tableau[i] -= tableau[i, entering] * tableau[leaving]\n",
                "        \n",
                "        basic_vars[leaving] = entering\n",
                "        \n",
                "        iterations += 1\n",
                "    \n",
                "    solution = np.zeros(n + m)\n",
                "    for i, var in enumerate(basic_vars):\n",
                "        solution[var] = tableau[i, -1]\n",
                "    \n",
                "    return solution[:n], tableau[-1, -1]"
            ]
        },
        {
            "cell_type": "markdown",
            "metadata": {},
            "source": [
                "### Contoh Penggunaan\n",
                "Pada contoh ini, kita menyelesaikan masalah optimasi linear berikut:\n",
                "Maximalkan Z = 3x1 + 5x2 + 4x3\n",
                "Dengan batasan:\n",
                "```\n",
                "3x1 + 6x2 + 2x3 <= 12\n",
                "1x1 + 2x2 + 3x3 <= 8\n",
                "4x1 + 2x2 + 4x3 <= 17\n",
                "```\n",
                "\n",
                "Output dari program ini akan memberikan solusi optimal dan nilai optimal dari fungsi objektif."
            ]
        },
        {
            "cell_type": "code",
            "execution_count": null,
            "metadata": {},
            "outputs": [],
            "source": [
                "c = np.array([-3, -5, -4])\n",
                "A = np.array([[3,6,2], [1, 2,3],[4, 2,4]])\n",
                "b = np.array([12, 8, 17])\n",
                "\n",
                "solution, optimal_value = simplex_method(c, A, b)\n",
                "\n",
                "print(\"\\nFinal solution:\")\n",
                "print(f\"x1 = {solution[0]:.2f}\")\n",
                "print(f\"x2 = {solution[1]:.2f}\")\n",
                "print(f\"Optimal value: {-optimal_value:.2f}\")"
            ]
        }
    ],
    "metadata": {
        "kernelspec": {
            "display_name": "Python 3",
            "language": "python",
            "name": "python3"
        },
        "language_info": {
            "name": "python",
            "version": "3.8"
        }
    },
    "nbformat": 4,
    "nbformat_minor": 4
}
